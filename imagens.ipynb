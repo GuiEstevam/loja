{
 "cells": [
  {
   "cell_type": "code",
   "execution_count": 3,
   "id": "dd84a414",
   "metadata": {},
   "outputs": [
    {
     "name": "stdout",
     "output_type": "stream",
     "text": [
      "Imagem 1 salva em storage/app/public/products\\product_1.jpg\n",
      "Imagem 2 salva em storage/app/public/products\\product_2.jpg\n",
      "Imagem 3 salva em storage/app/public/products\\product_3.jpg\n",
      "Imagem 4 salva em storage/app/public/products\\product_4.jpg\n",
      "Imagem 5 salva em storage/app/public/products\\product_5.jpg\n",
      "Imagem 6 salva em storage/app/public/products\\product_6.jpg\n",
      "Imagem 7 salva em storage/app/public/products\\product_7.jpg\n",
      "Imagem 8 salva em storage/app/public/products\\product_8.jpg\n",
      "Imagem 9 salva em storage/app/public/products\\product_9.jpg\n",
      "Imagem 10 salva em storage/app/public/products\\product_10.jpg\n",
      "Imagem 11 salva em storage/app/public/products\\product_11.jpg\n",
      "Imagem 12 salva em storage/app/public/products\\product_12.jpg\n",
      "Imagem 13 salva em storage/app/public/products\\product_13.jpg\n",
      "Imagem 14 salva em storage/app/public/products\\product_14.jpg\n",
      "Imagem 15 salva em storage/app/public/products\\product_15.jpg\n",
      "Imagem 16 salva em storage/app/public/products\\product_16.jpg\n",
      "Imagem 17 salva em storage/app/public/products\\product_17.jpg\n",
      "Imagem 18 salva em storage/app/public/products\\product_18.jpg\n",
      "Imagem 19 salva em storage/app/public/products\\product_19.jpg\n",
      "Imagem 20 salva em storage/app/public/products\\product_20.jpg\n"
     ]
    }
   ],
   "source": [
    "import os\n",
    "import requests\n",
    "\n",
    "# Criar o diretório se não existir\n",
    "path = 'storage/app/public/products'\n",
    "os.makedirs(path, exist_ok=True)\n",
    "\n",
    "# URLs base para imagens aleatórias (usando Lorem Picsum)\n",
    "base_url = 'https://picsum.photos/400/400'\n",
    "\n",
    "def download_images(num_images=20):\n",
    "    for i in range(1, num_images + 1):\n",
    "        url = f'{base_url}?random={i}'\n",
    "        try:\n",
    "            response = requests.get(url, timeout=10)\n",
    "            response.raise_for_status()\n",
    "            file_path = os.path.join(path, f'product_{i}.jpg')\n",
    "            with open(file_path, 'wb') as f:\n",
    "                f.write(response.content)\n",
    "            print(f'Imagem {i} salva em {file_path}')\n",
    "        except Exception as e:\n",
    "            print(f'Falha ao baixar imagem {i}: {e}')\n",
    "\n",
    "download_images()\n"
   ]
  }
 ],
 "metadata": {
  "kernelspec": {
   "display_name": "base",
   "language": "python",
   "name": "python3"
  },
  "language_info": {
   "codemirror_mode": {
    "name": "ipython",
    "version": 3
   },
   "file_extension": ".py",
   "mimetype": "text/x-python",
   "name": "python",
   "nbconvert_exporter": "python",
   "pygments_lexer": "ipython3",
   "version": "3.12.3"
  }
 },
 "nbformat": 4,
 "nbformat_minor": 5
}
